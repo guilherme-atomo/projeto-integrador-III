{
 "cells": [
  {
   "cell_type": "code",
   "execution_count": 1,
   "id": "ae1b30fb-edfe-4780-b256-7ebb2423e422",
   "metadata": {},
   "outputs": [],
   "source": [
    "import pandas as pd\n",
    "import numpy as np\n",
    "import seaborn as sns\n",
    "import matplotlib.pyplot as plt\n",
    "%matplotlib inline\n",
    "from sklearn.model_selection import train_test_split\n",
    "from sklearn.preprocessing import StandardScaler\n",
    "from sklearn.metrics import confusion_matrix, accuracy_score, recall_score, roc_curve, auc\n",
    "from sklearn.preprocessing import MinMaxScaler\n",
    "from sklearn.linear_model import LogisticRegression\n",
    "from sklearn.metrics import classification_report\n",
    "from sklearn.metrics import f1_score\n",
    "from sklearn.ensemble import RandomForestClassifier \n",
    "from sklearn.neighbors import KNeighborsClassifier\n",
    "from sklearn.model_selection import cross_val_score, KFold\n",
    "from sklearn.preprocessing import StandardScaler"
   ]
  },
  {
   "cell_type": "markdown",
   "id": "b11cbc04-25ed-4854-a7b5-db09b677b534",
   "metadata": {},
   "source": [
    "Análise Exploratória dos Dados"
   ]
  },
  {
   "cell_type": "code",
   "execution_count": 2,
   "id": "8cd52585-6006-48eb-b82e-1d0e687051f2",
   "metadata": {},
   "outputs": [],
   "source": [
    "data_location = \"../Data/card_transdata.csv\"\n",
    "data = pd.read_csv(data_location, sep = \",\")"
   ]
  },
  {
   "cell_type": "code",
   "execution_count": 3,
   "id": "3ce93d3c-01bc-47f6-a5ce-082d5f4ac01c",
   "metadata": {},
   "outputs": [
    {
     "data": {
      "text/html": [
       "<div>\n",
       "<style scoped>\n",
       "    .dataframe tbody tr th:only-of-type {\n",
       "        vertical-align: middle;\n",
       "    }\n",
       "\n",
       "    .dataframe tbody tr th {\n",
       "        vertical-align: top;\n",
       "    }\n",
       "\n",
       "    .dataframe thead th {\n",
       "        text-align: right;\n",
       "    }\n",
       "</style>\n",
       "<table border=\"1\" class=\"dataframe\">\n",
       "  <thead>\n",
       "    <tr style=\"text-align: right;\">\n",
       "      <th></th>\n",
       "      <th>distance_from_home</th>\n",
       "      <th>distance_from_last_transaction</th>\n",
       "      <th>ratio_to_median_purchase_price</th>\n",
       "      <th>repeat_retailer</th>\n",
       "      <th>used_chip</th>\n",
       "      <th>used_pin_number</th>\n",
       "      <th>online_order</th>\n",
       "      <th>fraud</th>\n",
       "    </tr>\n",
       "  </thead>\n",
       "  <tbody>\n",
       "    <tr>\n",
       "      <th>0</th>\n",
       "      <td>57.877857</td>\n",
       "      <td>0.311140</td>\n",
       "      <td>1.945940</td>\n",
       "      <td>1.0</td>\n",
       "      <td>1.0</td>\n",
       "      <td>0.0</td>\n",
       "      <td>0.0</td>\n",
       "      <td>0.0</td>\n",
       "    </tr>\n",
       "    <tr>\n",
       "      <th>1</th>\n",
       "      <td>10.829943</td>\n",
       "      <td>0.175592</td>\n",
       "      <td>1.294219</td>\n",
       "      <td>1.0</td>\n",
       "      <td>0.0</td>\n",
       "      <td>0.0</td>\n",
       "      <td>0.0</td>\n",
       "      <td>0.0</td>\n",
       "    </tr>\n",
       "    <tr>\n",
       "      <th>2</th>\n",
       "      <td>5.091079</td>\n",
       "      <td>0.805153</td>\n",
       "      <td>0.427715</td>\n",
       "      <td>1.0</td>\n",
       "      <td>0.0</td>\n",
       "      <td>0.0</td>\n",
       "      <td>1.0</td>\n",
       "      <td>0.0</td>\n",
       "    </tr>\n",
       "    <tr>\n",
       "      <th>3</th>\n",
       "      <td>2.247564</td>\n",
       "      <td>5.600044</td>\n",
       "      <td>0.362663</td>\n",
       "      <td>1.0</td>\n",
       "      <td>1.0</td>\n",
       "      <td>0.0</td>\n",
       "      <td>1.0</td>\n",
       "      <td>0.0</td>\n",
       "    </tr>\n",
       "    <tr>\n",
       "      <th>4</th>\n",
       "      <td>44.190936</td>\n",
       "      <td>0.566486</td>\n",
       "      <td>2.222767</td>\n",
       "      <td>1.0</td>\n",
       "      <td>1.0</td>\n",
       "      <td>0.0</td>\n",
       "      <td>1.0</td>\n",
       "      <td>0.0</td>\n",
       "    </tr>\n",
       "  </tbody>\n",
       "</table>\n",
       "</div>"
      ],
      "text/plain": [
       "   distance_from_home  distance_from_last_transaction  \\\n",
       "0           57.877857                        0.311140   \n",
       "1           10.829943                        0.175592   \n",
       "2            5.091079                        0.805153   \n",
       "3            2.247564                        5.600044   \n",
       "4           44.190936                        0.566486   \n",
       "\n",
       "   ratio_to_median_purchase_price  repeat_retailer  used_chip  \\\n",
       "0                        1.945940              1.0        1.0   \n",
       "1                        1.294219              1.0        0.0   \n",
       "2                        0.427715              1.0        0.0   \n",
       "3                        0.362663              1.0        1.0   \n",
       "4                        2.222767              1.0        1.0   \n",
       "\n",
       "   used_pin_number  online_order  fraud  \n",
       "0              0.0           0.0    0.0  \n",
       "1              0.0           0.0    0.0  \n",
       "2              0.0           1.0    0.0  \n",
       "3              0.0           1.0    0.0  \n",
       "4              0.0           1.0    0.0  "
      ]
     },
     "execution_count": 3,
     "metadata": {},
     "output_type": "execute_result"
    }
   ],
   "source": [
    "data.head()"
   ]
  },
  {
   "cell_type": "markdown",
   "id": "7f717698-33b2-4ad3-9f8a-487a444bb556",
   "metadata": {},
   "source": [
    "Verificando se há dados nulos"
   ]
  },
  {
   "cell_type": "code",
   "execution_count": 4,
   "id": "74e35297-0d45-484d-a545-02935b5d052e",
   "metadata": {},
   "outputs": [
    {
     "data": {
      "text/plain": [
       "distance_from_home                0\n",
       "distance_from_last_transaction    0\n",
       "ratio_to_median_purchase_price    0\n",
       "repeat_retailer                   0\n",
       "used_chip                         0\n",
       "used_pin_number                   0\n",
       "online_order                      0\n",
       "fraud                             0\n",
       "dtype: int64"
      ]
     },
     "execution_count": 4,
     "metadata": {},
     "output_type": "execute_result"
    }
   ],
   "source": [
    "data.isnull().sum()"
   ]
  },
  {
   "cell_type": "code",
   "execution_count": 5,
   "id": "ef1495b6-6d93-4df3-bc7c-17e6e427b537",
   "metadata": {},
   "outputs": [
    {
     "data": {
      "text/plain": [
       "array([0., 1.])"
      ]
     },
     "execution_count": 5,
     "metadata": {},
     "output_type": "execute_result"
    }
   ],
   "source": [
    "data.fraud.unique()"
   ]
  },
  {
   "cell_type": "code",
   "execution_count": 6,
   "id": "6e2c8bca-6048-409e-9a44-f2182b62c5f8",
   "metadata": {},
   "outputs": [
    {
     "name": "stdout",
     "output_type": "stream",
     "text": [
      "\n",
      "Conjunto de dados, linhas e colunas\n",
      "\n",
      "The shape of the data set is: (1000000, 8)\n",
      "\n",
      "---------------------------------------------\n",
      "\n",
      "\n",
      "Check valores nulos\n",
      "\n",
      "Checking for missing values: \n",
      "\n",
      "distance_from_home                0\n",
      "distance_from_last_transaction    0\n",
      "ratio_to_median_purchase_price    0\n",
      "repeat_retailer                   0\n",
      "used_chip                         0\n",
      "used_pin_number                   0\n",
      "online_order                      0\n",
      "fraud                             0\n",
      "dtype: int64\n",
      "\n",
      "---------------------------------------------\n",
      "\n",
      "\n",
      "Estatísticas\n",
      "\n",
      "       distance_from_home  distance_from_last_transaction  \\\n",
      "count      1000000.000000                  1000000.000000   \n",
      "mean            26.628792                        5.036519   \n",
      "std             65.390784                       25.843093   \n",
      "min              0.004874                        0.000118   \n",
      "25%              3.878008                        0.296671   \n",
      "50%              9.967760                        0.998650   \n",
      "75%             25.743985                        3.355748   \n",
      "max          10632.723672                    11851.104565   \n",
      "\n",
      "       ratio_to_median_purchase_price  repeat_retailer       used_chip  \\\n",
      "count                  1000000.000000   1000000.000000  1000000.000000   \n",
      "mean                         1.824182         0.881536        0.350399   \n",
      "std                          2.799589         0.323157        0.477095   \n",
      "min                          0.004399         0.000000        0.000000   \n",
      "25%                          0.475673         1.000000        0.000000   \n",
      "50%                          0.997717         1.000000        0.000000   \n",
      "75%                          2.096370         1.000000        1.000000   \n",
      "max                        267.802942         1.000000        1.000000   \n",
      "\n",
      "       used_pin_number    online_order           fraud  \n",
      "count   1000000.000000  1000000.000000  1000000.000000  \n",
      "mean          0.100608        0.650552        0.087403  \n",
      "std           0.300809        0.476796        0.282425  \n",
      "min           0.000000        0.000000        0.000000  \n",
      "25%           0.000000        0.000000        0.000000  \n",
      "50%           0.000000        1.000000        0.000000  \n",
      "75%           0.000000        1.000000        0.000000  \n",
      "max           1.000000        1.000000        1.000000  \n",
      "\n",
      "---------------------------------------------\n",
      "\n",
      "\n",
      "Informações do dataset\n",
      "\n",
      "<class 'pandas.core.frame.DataFrame'>\n",
      "RangeIndex: 1000000 entries, 0 to 999999\n",
      "Data columns (total 8 columns):\n",
      " #   Column                          Non-Null Count    Dtype  \n",
      "---  ------                          --------------    -----  \n",
      " 0   distance_from_home              1000000 non-null  float64\n",
      " 1   distance_from_last_transaction  1000000 non-null  float64\n",
      " 2   ratio_to_median_purchase_price  1000000 non-null  float64\n",
      " 3   repeat_retailer                 1000000 non-null  float64\n",
      " 4   used_chip                       1000000 non-null  float64\n",
      " 5   used_pin_number                 1000000 non-null  float64\n",
      " 6   online_order                    1000000 non-null  float64\n",
      " 7   fraud                           1000000 non-null  float64\n",
      "dtypes: float64(8)\n",
      "memory usage: 61.0 MB\n",
      "None\n",
      "\n",
      "---------------------------------------------\n",
      "\n",
      "\n",
      "Check balanceamento da target fraud\n",
      "\n",
      "0.0    912597\n",
      "1.0     87403\n",
      "Name: fraud, dtype: int64\n",
      "\n",
      "---------------------------------------------\n",
      "\n"
     ]
    }
   ],
   "source": [
    "print('\\nConjunto de dados, linhas e colunas\\n')\n",
    "print('The shape of the data set is:',data.shape)\n",
    "print('\\n---------------------------------------------\\n')\n",
    "\n",
    "print('\\nCheck valores nulos\\n')\n",
    "print('Checking for missing values: \\n')\n",
    "print(pd.isnull(data).sum())\n",
    "print('\\n---------------------------------------------\\n')\n",
    "\n",
    "print('\\nEstatísticas\\n')\n",
    "print(data.describe())\n",
    "print('\\n---------------------------------------------\\n')\n",
    "\n",
    "print('\\nInformações do dataset\\n')\n",
    "print(data.info())\n",
    "print('\\n---------------------------------------------\\n')\n",
    "\n",
    "print('\\nCheck balanceamento da target fraud\\n')\n",
    "print(data['fraud'].value_counts())\n",
    "print('\\n---------------------------------------------\\n')"
   ]
  },
  {
   "cell_type": "markdown",
   "id": "2de6d114-61be-4a48-8eef-907744670aba",
   "metadata": {},
   "source": [
    "Observando a distribuição dos dados"
   ]
  },
  {
   "cell_type": "code",
   "execution_count": 7,
   "id": "e9d36099-22b6-44d5-ae0a-68702e128364",
   "metadata": {},
   "outputs": [],
   "source": [
    "#sns.pairplot(data, \n",
    "#             hue = 'fraud'\n",
    "#            );"
   ]
  },
  {
   "cell_type": "markdown",
   "id": "afa1c728-7c78-43f4-ab7f-8aae57526a2e",
   "metadata": {},
   "source": [
    "# Balanceamento da variável target"
   ]
  },
  {
   "cell_type": "code",
   "execution_count": 8,
   "id": "99a2067a-6a1c-4592-9bdb-d8a959e687d3",
   "metadata": {},
   "outputs": [
    {
     "data": {
      "text/plain": [
       "0.0    0.912597\n",
       "1.0    0.087403\n",
       "Name: fraud, dtype: float64"
      ]
     },
     "execution_count": 8,
     "metadata": {},
     "output_type": "execute_result"
    }
   ],
   "source": [
    "data['fraud'].value_counts(normalize = True)"
   ]
  },
  {
   "cell_type": "markdown",
   "id": "4d15612e-46ec-4a3e-aac2-a3a2ba9dd907",
   "metadata": {},
   "source": [
    "Verificamos que nesse conjunto apenas 8% dos dados são de cartões fraudados"
   ]
  },
  {
   "cell_type": "markdown",
   "id": "5e90c711-eace-4acf-bad6-7240d79a275d",
   "metadata": {},
   "source": [
    "Para resolver o problema do balanceamento vamos primeiramente criar dois datasets, um para os dados com frades e outro com dados sem fraude"
   ]
  },
  {
   "cell_type": "code",
   "execution_count": 9,
   "id": "da8810d1-34b9-4a37-9984-774a3d6aeb05",
   "metadata": {},
   "outputs": [],
   "source": [
    "no_fraud=data[data.fraud == 0]\n",
    "fraud=data[data.fraud == 1]"
   ]
  },
  {
   "cell_type": "markdown",
   "id": "da5e3360-3c13-4144-ab36-71efdc9a6942",
   "metadata": {},
   "source": [
    "Pegando uma amostra de 5000 para cada cada dataset, com fraude e sem fraude"
   ]
  },
  {
   "cell_type": "code",
   "execution_count": 10,
   "id": "b27228f4-d450-4cc8-9045-f23d844181fa",
   "metadata": {},
   "outputs": [],
   "source": [
    "dt_no_fraude_sample=no_fraud.sample(n=5000)\n",
    "dt_fraude_sample=fraud.sample(n=5000)"
   ]
  },
  {
   "cell_type": "markdown",
   "id": "309832c5-975a-4115-8889-8cf400855656",
   "metadata": {},
   "source": [
    "Criação de um novo dataset com as amostras criadas anteriormente"
   ]
  },
  {
   "cell_type": "code",
   "execution_count": 11,
   "id": "9a89c5c3-7cb6-45d9-a189-ca8a28932cb0",
   "metadata": {},
   "outputs": [],
   "source": [
    "data_fraud=pd.concat([dt_no_fraude_sample,dt_fraude_sample],axis=0)"
   ]
  },
  {
   "cell_type": "code",
   "execution_count": 12,
   "id": "2ba34efc-90d8-43ba-8912-8fbd816d3c00",
   "metadata": {},
   "outputs": [
    {
     "data": {
      "text/plain": [
       "0.0    0.5\n",
       "1.0    0.5\n",
       "Name: fraud, dtype: float64"
      ]
     },
     "execution_count": 12,
     "metadata": {},
     "output_type": "execute_result"
    }
   ],
   "source": [
    "data_fraud['fraud'].value_counts(normalize = True)"
   ]
  },
  {
   "cell_type": "code",
   "execution_count": 13,
   "id": "4a6e169e",
   "metadata": {},
   "outputs": [
    {
     "data": {
      "text/html": [
       "<div>\n",
       "<style scoped>\n",
       "    .dataframe tbody tr th:only-of-type {\n",
       "        vertical-align: middle;\n",
       "    }\n",
       "\n",
       "    .dataframe tbody tr th {\n",
       "        vertical-align: top;\n",
       "    }\n",
       "\n",
       "    .dataframe thead th {\n",
       "        text-align: right;\n",
       "    }\n",
       "</style>\n",
       "<table border=\"1\" class=\"dataframe\">\n",
       "  <thead>\n",
       "    <tr style=\"text-align: right;\">\n",
       "      <th></th>\n",
       "      <th>distance_from_home</th>\n",
       "      <th>distance_from_last_transaction</th>\n",
       "      <th>ratio_to_median_purchase_price</th>\n",
       "      <th>repeat_retailer</th>\n",
       "      <th>used_chip</th>\n",
       "      <th>used_pin_number</th>\n",
       "      <th>online_order</th>\n",
       "      <th>fraud</th>\n",
       "    </tr>\n",
       "  </thead>\n",
       "  <tbody>\n",
       "    <tr>\n",
       "      <th>762934</th>\n",
       "      <td>4.094086</td>\n",
       "      <td>0.527655</td>\n",
       "      <td>1.656209</td>\n",
       "      <td>1.0</td>\n",
       "      <td>0.0</td>\n",
       "      <td>0.0</td>\n",
       "      <td>1.0</td>\n",
       "      <td>0.0</td>\n",
       "    </tr>\n",
       "    <tr>\n",
       "      <th>87729</th>\n",
       "      <td>6.853262</td>\n",
       "      <td>0.556375</td>\n",
       "      <td>1.529652</td>\n",
       "      <td>1.0</td>\n",
       "      <td>0.0</td>\n",
       "      <td>0.0</td>\n",
       "      <td>1.0</td>\n",
       "      <td>0.0</td>\n",
       "    </tr>\n",
       "    <tr>\n",
       "      <th>563837</th>\n",
       "      <td>4.002006</td>\n",
       "      <td>0.055339</td>\n",
       "      <td>2.109026</td>\n",
       "      <td>1.0</td>\n",
       "      <td>0.0</td>\n",
       "      <td>0.0</td>\n",
       "      <td>1.0</td>\n",
       "      <td>0.0</td>\n",
       "    </tr>\n",
       "    <tr>\n",
       "      <th>20904</th>\n",
       "      <td>16.146810</td>\n",
       "      <td>0.674020</td>\n",
       "      <td>0.763570</td>\n",
       "      <td>1.0</td>\n",
       "      <td>0.0</td>\n",
       "      <td>0.0</td>\n",
       "      <td>0.0</td>\n",
       "      <td>0.0</td>\n",
       "    </tr>\n",
       "    <tr>\n",
       "      <th>554608</th>\n",
       "      <td>19.536078</td>\n",
       "      <td>0.074957</td>\n",
       "      <td>1.616453</td>\n",
       "      <td>1.0</td>\n",
       "      <td>0.0</td>\n",
       "      <td>0.0</td>\n",
       "      <td>1.0</td>\n",
       "      <td>0.0</td>\n",
       "    </tr>\n",
       "    <tr>\n",
       "      <th>...</th>\n",
       "      <td>...</td>\n",
       "      <td>...</td>\n",
       "      <td>...</td>\n",
       "      <td>...</td>\n",
       "      <td>...</td>\n",
       "      <td>...</td>\n",
       "      <td>...</td>\n",
       "      <td>...</td>\n",
       "    </tr>\n",
       "    <tr>\n",
       "      <th>795522</th>\n",
       "      <td>104.015576</td>\n",
       "      <td>0.236590</td>\n",
       "      <td>1.691789</td>\n",
       "      <td>1.0</td>\n",
       "      <td>0.0</td>\n",
       "      <td>0.0</td>\n",
       "      <td>1.0</td>\n",
       "      <td>1.0</td>\n",
       "    </tr>\n",
       "    <tr>\n",
       "      <th>362393</th>\n",
       "      <td>11.513245</td>\n",
       "      <td>0.283711</td>\n",
       "      <td>18.063881</td>\n",
       "      <td>1.0</td>\n",
       "      <td>0.0</td>\n",
       "      <td>0.0</td>\n",
       "      <td>1.0</td>\n",
       "      <td>1.0</td>\n",
       "    </tr>\n",
       "    <tr>\n",
       "      <th>345958</th>\n",
       "      <td>8.883852</td>\n",
       "      <td>1.097268</td>\n",
       "      <td>5.838836</td>\n",
       "      <td>1.0</td>\n",
       "      <td>0.0</td>\n",
       "      <td>0.0</td>\n",
       "      <td>1.0</td>\n",
       "      <td>1.0</td>\n",
       "    </tr>\n",
       "    <tr>\n",
       "      <th>778793</th>\n",
       "      <td>35.821779</td>\n",
       "      <td>0.199799</td>\n",
       "      <td>9.614209</td>\n",
       "      <td>1.0</td>\n",
       "      <td>0.0</td>\n",
       "      <td>0.0</td>\n",
       "      <td>1.0</td>\n",
       "      <td>1.0</td>\n",
       "    </tr>\n",
       "    <tr>\n",
       "      <th>660991</th>\n",
       "      <td>101.132190</td>\n",
       "      <td>0.248466</td>\n",
       "      <td>0.904617</td>\n",
       "      <td>1.0</td>\n",
       "      <td>0.0</td>\n",
       "      <td>0.0</td>\n",
       "      <td>1.0</td>\n",
       "      <td>1.0</td>\n",
       "    </tr>\n",
       "  </tbody>\n",
       "</table>\n",
       "<p>10000 rows × 8 columns</p>\n",
       "</div>"
      ],
      "text/plain": [
       "        distance_from_home  distance_from_last_transaction  \\\n",
       "762934            4.094086                        0.527655   \n",
       "87729             6.853262                        0.556375   \n",
       "563837            4.002006                        0.055339   \n",
       "20904            16.146810                        0.674020   \n",
       "554608           19.536078                        0.074957   \n",
       "...                    ...                             ...   \n",
       "795522          104.015576                        0.236590   \n",
       "362393           11.513245                        0.283711   \n",
       "345958            8.883852                        1.097268   \n",
       "778793           35.821779                        0.199799   \n",
       "660991          101.132190                        0.248466   \n",
       "\n",
       "        ratio_to_median_purchase_price  repeat_retailer  used_chip  \\\n",
       "762934                        1.656209              1.0        0.0   \n",
       "87729                         1.529652              1.0        0.0   \n",
       "563837                        2.109026              1.0        0.0   \n",
       "20904                         0.763570              1.0        0.0   \n",
       "554608                        1.616453              1.0        0.0   \n",
       "...                                ...              ...        ...   \n",
       "795522                        1.691789              1.0        0.0   \n",
       "362393                       18.063881              1.0        0.0   \n",
       "345958                        5.838836              1.0        0.0   \n",
       "778793                        9.614209              1.0        0.0   \n",
       "660991                        0.904617              1.0        0.0   \n",
       "\n",
       "        used_pin_number  online_order  fraud  \n",
       "762934              0.0           1.0    0.0  \n",
       "87729               0.0           1.0    0.0  \n",
       "563837              0.0           1.0    0.0  \n",
       "20904               0.0           0.0    0.0  \n",
       "554608              0.0           1.0    0.0  \n",
       "...                 ...           ...    ...  \n",
       "795522              0.0           1.0    1.0  \n",
       "362393              0.0           1.0    1.0  \n",
       "345958              0.0           1.0    1.0  \n",
       "778793              0.0           1.0    1.0  \n",
       "660991              0.0           1.0    1.0  \n",
       "\n",
       "[10000 rows x 8 columns]"
      ]
     },
     "execution_count": 13,
     "metadata": {},
     "output_type": "execute_result"
    }
   ],
   "source": [
    "data_fraud\n"
   ]
  },
  {
   "cell_type": "code",
   "execution_count": 14,
   "id": "4f9b12c8-7eed-4f8e-b14f-0f6e663366f4",
   "metadata": {},
   "outputs": [
    {
     "data": {
      "text/html": [
       "<div>\n",
       "<style scoped>\n",
       "    .dataframe tbody tr th:only-of-type {\n",
       "        vertical-align: middle;\n",
       "    }\n",
       "\n",
       "    .dataframe tbody tr th {\n",
       "        vertical-align: top;\n",
       "    }\n",
       "\n",
       "    .dataframe thead th {\n",
       "        text-align: right;\n",
       "    }\n",
       "</style>\n",
       "<table border=\"1\" class=\"dataframe\">\n",
       "  <thead>\n",
       "    <tr style=\"text-align: right;\">\n",
       "      <th></th>\n",
       "      <th>distance_from_home</th>\n",
       "      <th>distance_from_last_transaction</th>\n",
       "      <th>ratio_to_median_purchase_price</th>\n",
       "      <th>repeat_retailer</th>\n",
       "      <th>used_chip</th>\n",
       "      <th>used_pin_number</th>\n",
       "      <th>online_order</th>\n",
       "      <th>fraud</th>\n",
       "    </tr>\n",
       "  </thead>\n",
       "  <tbody>\n",
       "    <tr>\n",
       "      <th>distance_from_home</th>\n",
       "      <td>1.000000</td>\n",
       "      <td>-0.018338</td>\n",
       "      <td>-0.081519</td>\n",
       "      <td>0.148837</td>\n",
       "      <td>-0.103909</td>\n",
       "      <td>-0.042239</td>\n",
       "      <td>0.064226</td>\n",
       "      <td>0.205559</td>\n",
       "    </tr>\n",
       "    <tr>\n",
       "      <th>distance_from_last_transaction</th>\n",
       "      <td>-0.018338</td>\n",
       "      <td>1.000000</td>\n",
       "      <td>-0.038189</td>\n",
       "      <td>-0.013402</td>\n",
       "      <td>-0.022161</td>\n",
       "      <td>-0.017777</td>\n",
       "      <td>0.039405</td>\n",
       "      <td>0.114147</td>\n",
       "    </tr>\n",
       "    <tr>\n",
       "      <th>ratio_to_median_purchase_price</th>\n",
       "      <td>-0.081519</td>\n",
       "      <td>-0.038189</td>\n",
       "      <td>1.000000</td>\n",
       "      <td>-0.035947</td>\n",
       "      <td>0.056046</td>\n",
       "      <td>-0.092763</td>\n",
       "      <td>0.144539</td>\n",
       "      <td>0.477036</td>\n",
       "    </tr>\n",
       "    <tr>\n",
       "      <th>repeat_retailer</th>\n",
       "      <td>0.148837</td>\n",
       "      <td>-0.013402</td>\n",
       "      <td>-0.035947</td>\n",
       "      <td>1.000000</td>\n",
       "      <td>-0.007646</td>\n",
       "      <td>0.006078</td>\n",
       "      <td>0.072854</td>\n",
       "      <td>0.000941</td>\n",
       "    </tr>\n",
       "    <tr>\n",
       "      <th>used_chip</th>\n",
       "      <td>-0.103909</td>\n",
       "      <td>-0.022161</td>\n",
       "      <td>0.056046</td>\n",
       "      <td>-0.007646</td>\n",
       "      <td>1.000000</td>\n",
       "      <td>0.015416</td>\n",
       "      <td>-0.021439</td>\n",
       "      <td>-0.109006</td>\n",
       "    </tr>\n",
       "    <tr>\n",
       "      <th>used_pin_number</th>\n",
       "      <td>-0.042239</td>\n",
       "      <td>-0.017777</td>\n",
       "      <td>-0.092763</td>\n",
       "      <td>0.006078</td>\n",
       "      <td>0.015416</td>\n",
       "      <td>1.000000</td>\n",
       "      <td>-0.079796</td>\n",
       "      <td>-0.235919</td>\n",
       "    </tr>\n",
       "    <tr>\n",
       "      <th>online_order</th>\n",
       "      <td>0.064226</td>\n",
       "      <td>0.039405</td>\n",
       "      <td>0.144539</td>\n",
       "      <td>0.072854</td>\n",
       "      <td>-0.021439</td>\n",
       "      <td>-0.079796</td>\n",
       "      <td>1.000000</td>\n",
       "      <td>0.407317</td>\n",
       "    </tr>\n",
       "    <tr>\n",
       "      <th>fraud</th>\n",
       "      <td>0.205559</td>\n",
       "      <td>0.114147</td>\n",
       "      <td>0.477036</td>\n",
       "      <td>0.000941</td>\n",
       "      <td>-0.109006</td>\n",
       "      <td>-0.235919</td>\n",
       "      <td>0.407317</td>\n",
       "      <td>1.000000</td>\n",
       "    </tr>\n",
       "  </tbody>\n",
       "</table>\n",
       "</div>"
      ],
      "text/plain": [
       "                                distance_from_home  \\\n",
       "distance_from_home                        1.000000   \n",
       "distance_from_last_transaction           -0.018338   \n",
       "ratio_to_median_purchase_price           -0.081519   \n",
       "repeat_retailer                           0.148837   \n",
       "used_chip                                -0.103909   \n",
       "used_pin_number                          -0.042239   \n",
       "online_order                              0.064226   \n",
       "fraud                                     0.205559   \n",
       "\n",
       "                                distance_from_last_transaction  \\\n",
       "distance_from_home                                   -0.018338   \n",
       "distance_from_last_transaction                        1.000000   \n",
       "ratio_to_median_purchase_price                       -0.038189   \n",
       "repeat_retailer                                      -0.013402   \n",
       "used_chip                                            -0.022161   \n",
       "used_pin_number                                      -0.017777   \n",
       "online_order                                          0.039405   \n",
       "fraud                                                 0.114147   \n",
       "\n",
       "                                ratio_to_median_purchase_price  \\\n",
       "distance_from_home                                   -0.081519   \n",
       "distance_from_last_transaction                       -0.038189   \n",
       "ratio_to_median_purchase_price                        1.000000   \n",
       "repeat_retailer                                      -0.035947   \n",
       "used_chip                                             0.056046   \n",
       "used_pin_number                                      -0.092763   \n",
       "online_order                                          0.144539   \n",
       "fraud                                                 0.477036   \n",
       "\n",
       "                                repeat_retailer  used_chip  used_pin_number  \\\n",
       "distance_from_home                     0.148837  -0.103909        -0.042239   \n",
       "distance_from_last_transaction        -0.013402  -0.022161        -0.017777   \n",
       "ratio_to_median_purchase_price        -0.035947   0.056046        -0.092763   \n",
       "repeat_retailer                        1.000000  -0.007646         0.006078   \n",
       "used_chip                             -0.007646   1.000000         0.015416   \n",
       "used_pin_number                        0.006078   0.015416         1.000000   \n",
       "online_order                           0.072854  -0.021439        -0.079796   \n",
       "fraud                                  0.000941  -0.109006        -0.235919   \n",
       "\n",
       "                                online_order     fraud  \n",
       "distance_from_home                  0.064226  0.205559  \n",
       "distance_from_last_transaction      0.039405  0.114147  \n",
       "ratio_to_median_purchase_price      0.144539  0.477036  \n",
       "repeat_retailer                     0.072854  0.000941  \n",
       "used_chip                          -0.021439 -0.109006  \n",
       "used_pin_number                    -0.079796 -0.235919  \n",
       "online_order                        1.000000  0.407317  \n",
       "fraud                               0.407317  1.000000  "
      ]
     },
     "execution_count": 14,
     "metadata": {},
     "output_type": "execute_result"
    }
   ],
   "source": [
    "data_fraud.corr()"
   ]
  },
  {
   "cell_type": "code",
   "execution_count": 15,
   "id": "c75c08aa-c012-40c8-b6f5-a055f7814aab",
   "metadata": {},
   "outputs": [
    {
     "data": {
      "image/png": "[encoded data removed]",
      "text/plain": [
       "<Figure size 576x864 with 2 Axes>"
      ]
     },
     "metadata": {
      "needs_background": "light"
     },
     "output_type": "display_data"
    }
   ],
   "source": [
    "plt.figure(figsize = (8,12))\n",
    "sns.heatmap(data_fraud.corr()[['fraud']], \n",
    "            annot = True\n",
    "           );"
   ]
  },
  {
   "cell_type": "markdown",
   "id": "62e820e6-89bd-4a9d-bdcb-315c6a7ae7cb",
   "metadata": {},
   "source": [
    "# Criação de uma lista vazia para armazenar as métricas dos modelos"
   ]
  },
  {
   "cell_type": "code",
   "execution_count": 16,
   "id": "e8d233c4-df62-422c-b5af-44f95f8d6cee",
   "metadata": {},
   "outputs": [],
   "source": [
    "data_all=[]"
   ]
  },
  {
   "cell_type": "markdown",
   "id": "4714a785-190f-495e-a497-93b93615429d",
   "metadata": {},
   "source": [
    "# Definição das matriz features, variável varget - Sepração modelo treino e teste"
   ]
  },
  {
   "cell_type": "markdown",
   "id": "e5fd2d73-c8f7-42e7-ba27-3eb2af4ae48e",
   "metadata": {},
   "source": [
    "Definindo a matriz de features e a variável target"
   ]
  },
  {
   "cell_type": "code",
   "execution_count": 17,
   "id": "2007bba7-2ba3-4f32-9198-3407f7175bfd",
   "metadata": {},
   "outputs": [],
   "source": [
    "X = data_fraud.drop(columns=['fraud'],axis=1)\n",
    "y = data_fraud[\"fraud\"]"
   ]
  },
  {
   "cell_type": "markdown",
   "id": "aba0d182-2b12-42b1-9aeb-6d4e6cd205b6",
   "metadata": {},
   "source": [
    "Split do dataset de treino e de teste"
   ]
  },
  {
   "cell_type": "code",
   "execution_count": 18,
   "id": "c5e2d1af-dd76-4008-92d4-a3e0f34d34a9",
   "metadata": {},
   "outputs": [],
   "source": [
    "X_train, X_test, y_train, y_test = train_test_split(X,y, stratify=y, random_state=12)"
   ]
  },
  {
   "cell_type": "markdown",
   "id": "c7302914-7f1a-47a1-a94d-9fa849517218",
   "metadata": {},
   "source": [
    "Verificando se as proporções da variável target no treino e teste são correspondentes"
   ]
  },
  {
   "cell_type": "code",
   "execution_count": 19,
   "id": "2028904c-05e7-4c2d-9660-aa57280eddf7",
   "metadata": {},
   "outputs": [
    {
     "data": {
      "text/plain": [
       "(0.5, 0.5)"
      ]
     },
     "execution_count": 19,
     "metadata": {},
     "output_type": "execute_result"
    }
   ],
   "source": [
    "y_train.mean(), y_test.mean()"
   ]
  },
  {
   "cell_type": "markdown",
   "id": "9af3f328-8587-4bca-990a-1a37136cbdc1",
   "metadata": {},
   "source": [
    "Check dos dataset de treino e teste"
   ]
  },
  {
   "cell_type": "code",
   "execution_count": 20,
   "id": "854e217d-be11-4ea2-ad7e-82ef99dced7d",
   "metadata": {},
   "outputs": [
    {
     "name": "stdout",
     "output_type": "stream",
     "text": [
      "X_train: (7500, 7)\n",
      "y_train: (7500,)\n",
      "X_test: (2500, 7)\n",
      "y_test: (2500,)\n"
     ]
    }
   ],
   "source": [
    "print('X_train:',X_train.shape)\n",
    "print('y_train:',y_train.shape)\n",
    "print('X_test:',X_test.shape)\n",
    "print('y_test:',y_test.shape)"
   ]
  },
  {
   "cell_type": "markdown",
   "id": "bf7c8b51-2fdb-41b5-a1d2-f5d8b03121c6",
   "metadata": {},
   "source": [
    "# Padronização das features do modelos de treino e de teste"
   ]
  },
  {
   "cell_type": "code",
   "execution_count": 21,
   "id": "56c4ecfd-8bbf-4187-9f74-93f3877bf007",
   "metadata": {},
   "outputs": [],
   "source": [
    "scaler = StandardScaler()\n",
    "X_train_std = scaler.fit_transform(X_train)\n",
    "X_test_std = scaler.transform(X_test)"
   ]
  },
  {
   "cell_type": "markdown",
   "id": "56d67a1b-35aa-4714-b65b-e7623c6ba148",
   "metadata": {},
   "source": [
    "# Modelo 1: Regressão Logística"
   ]
  },
  {
   "cell_type": "markdown",
   "id": "7198f1ac-f38a-40de-8830-fe9eb610efe3",
   "metadata": {},
   "source": [
    "Instanciando um objeto da classe LogisticRegression"
   ]
  },
  {
   "cell_type": "code",
   "execution_count": 22,
   "id": "1c567eda-7c55-4fbd-9b92-a2677e116132",
   "metadata": {},
   "outputs": [],
   "source": [
    "lr = LogisticRegression()"
   ]
  },
  {
   "cell_type": "markdown",
   "id": "940dddb3-1d99-4626-b928-08f40f521d23",
   "metadata": {},
   "source": [
    "Ajuste do modelo"
   ]
  },
  {
   "cell_type": "code",
   "execution_count": 23,
   "id": "db8f47db-a2af-46da-8b6a-b9c88fb3f947",
   "metadata": {},
   "outputs": [
    {
     "data": {
      "text/html": [
       "<style>#sk-container-id-1 {color: black;background-color: white;}#sk-container-id-1 pre{padding: 0;}#sk-container-id-1 div.sk-toggleable {background-color: white;}#sk-container-id-1 label.sk-toggleable__label {cursor: pointer;display: block;width: 100%;margin-bottom: 0;padding: 0.3em;box-sizing: border-box;text-align: center;}#sk-container-id-1 label.sk-toggleable__label-arrow:before {content: \"▸\";float: left;margin-right: 0.25em;color: #696969;}#sk-container-id-1 label.sk-toggleable__label-arrow:hover:before {color: black;}#sk-container-id-1 div.sk-estimator:hover label.sk-toggleable__label-arrow:before {color: black;}#sk-container-id-1 div.sk-toggleable__content {max-height: 0;max-width: 0;overflow: hidden;text-align: left;background-color: #f0f8ff;}#sk-container-id-1 div.sk-toggleable__content pre {margin: 0.2em;color: black;border-radius: 0.25em;background-color: #f0f8ff;}#sk-container-id-1 input.sk-toggleable__control:checked~div.sk-toggleable__content {max-height: 200px;max-width: 100%;overflow: auto;}#sk-container-id-1 input.sk-toggleable__control:checked~label.sk-toggleable__label-arrow:before {content: \"▾\";}#sk-container-id-1 div.sk-estimator input.sk-toggleable__control:checked~label.sk-toggleable__label {background-color: #d4ebff;}#sk-container-id-1 div.sk-label input.sk-toggleable__control:checked~label.sk-toggleable__label {background-color: #d4ebff;}#sk-container-id-1 input.sk-hidden--visually {border: 0;clip: rect(1px 1px 1px 1px);clip: rect(1px, 1px, 1px, 1px);height: 1px;margin: -1px;overflow: hidden;padding: 0;position: absolute;width: 1px;}#sk-container-id-1 div.sk-estimator {font-family: monospace;background-color: #f0f8ff;border: 1px dotted black;border-radius: 0.25em;box-sizing: border-box;margin-bottom: 0.5em;}#sk-container-id-1 div.sk-estimator:hover {background-color: #d4ebff;}#sk-container-id-1 div.sk-parallel-item::after {content: \"\";width: 100%;border-bottom: 1px solid gray;flex-grow: 1;}#sk-container-id-1 div.sk-label:hover label.sk-toggleable__label {background-color: #d4ebff;}#sk-container-id-1 div.sk-serial::before {content: \"\";position: absolute;border-left: 1px solid gray;box-sizing: border-box;top: 0;bottom: 0;left: 50%;z-index: 0;}#sk-container-id-1 div.sk-serial {display: flex;flex-direction: column;align-items: center;background-color: white;padding-right: 0.2em;padding-left: 0.2em;position: relative;}#sk-container-id-1 div.sk-item {position: relative;z-index: 1;}#sk-container-id-1 div.sk-parallel {display: flex;align-items: stretch;justify-content: center;background-color: white;position: relative;}#sk-container-id-1 div.sk-item::before, #sk-container-id-1 div.sk-parallel-item::before {content: \"\";position: absolute;border-left: 1px solid gray;box-sizing: border-box;top: 0;bottom: 0;left: 50%;z-index: -1;}#sk-container-id-1 div.sk-parallel-item {display: flex;flex-direction: column;z-index: 1;position: relative;background-color: white;}#sk-container-id-1 div.sk-parallel-item:first-child::after {align-self: flex-end;width: 50%;}#sk-container-id-1 div.sk-parallel-item:last-child::after {align-self: flex-start;width: 50%;}#sk-container-id-1 div.sk-parallel-item:only-child::after {width: 0;}#sk-container-id-1 div.sk-dashed-wrapped {border: 1px dashed gray;margin: 0 0.4em 0.5em 0.4em;box-sizing: border-box;padding-bottom: 0.4em;background-color: white;}#sk-container-id-1 div.sk-label label {font-family: monospace;font-weight: bold;display: inline-block;line-height: 1.2em;}#sk-container-id-1 div.sk-label-container {text-align: center;}#sk-container-id-1 div.sk-container {/* jupyter's `normalize.less` sets `[hidden] { display: none; }` but bootstrap.min.css set `[hidden] { display: none !important; }` so we also need the `!important` here to be able to override the default hidden behavior on the sphinx rendered scikit-learn.org. See: https://github.com/scikit-learn/scikit-learn/issues/21755 */display: inline-block !important;position: relative;}#sk-container-id-1 div.sk-text-repr-fallback {display: none;}</style><div id=\"sk-container-id-1\" class=\"sk-top-container\"><div class=\"sk-text-repr-fallback\"><pre>LogisticRegression()</pre><b>In a Jupyter environment, please rerun this cell to show the HTML representation or trust the notebook. <br />On GitHub, the HTML representation is unable to render, please try loading this page with nbviewer.org.</b></div><div class=\"sk-container\" hidden><div class=\"sk-item\"><div class=\"sk-estimator sk-toggleable\"><input class=\"sk-toggleable__control sk-hidden--visually\" id=\"sk-estimator-id-1\" type=\"checkbox\" checked><label for=\"sk-estimator-id-1\" class=\"sk-toggleable__label sk-toggleable__label-arrow\">LogisticRegression</label><div class=\"sk-toggleable__content\"><pre>LogisticRegression()</pre></div></div></div></div></div>"
      ],
      "text/plain": [
       "LogisticRegression()"
      ]
     },
     "execution_count": 23,
     "metadata": {},
     "output_type": "execute_result"
    }
   ],
   "source": [
    "lr.fit(X_train_std, y_train)"
   ]
  },
  {
   "cell_type": "markdown",
   "id": "a5ec6dc5-2db0-4fa6-b987-a119a7c1bc2b",
   "metadata": {},
   "source": [
    "Visualização dos coeficientes"
   ]
  },
  {
   "cell_type": "code",
   "execution_count": 24,
   "id": "a72ceba4-f2de-400d-86fc-1032939336d5",
   "metadata": {},
   "outputs": [
    {
     "name": "stdout",
     "output_type": "stream",
     "text": [
      "[[ 2.80588016  1.67482526  5.63896031 -0.35637984 -0.59920962 -1.76942084\n",
      "   2.16565938]]\n",
      "[0.34480322]\n"
     ]
    }
   ],
   "source": [
    "print(lr.coef_)\n",
    "print(lr.intercept_)"
   ]
  },
  {
   "cell_type": "markdown",
   "id": "7ff82ad3-f004-4b58-b697-e86face76808",
   "metadata": {},
   "source": [
    "Previsão da acurácia com o modelo treinado"
   ]
  },
  {
   "cell_type": "code",
   "execution_count": 25,
   "id": "07a9a067-871b-4cc9-b63b-82fe65bb489c",
   "metadata": {},
   "outputs": [
    {
     "name": "stdout",
     "output_type": "stream",
     "text": [
      "Score train:  0.9388\n"
     ]
    }
   ],
   "source": [
    "score_train = accuracy_score(y_train, lr.predict(X_train_std))\n",
    "print('Score train: ', score_train)"
   ]
  },
  {
   "cell_type": "markdown",
   "id": "b60f87de-01c5-45af-9d74-46823752a94b",
   "metadata": {},
   "source": [
    "Matriz de confusão do modelo de treino"
   ]
  },
  {
   "cell_type": "code",
   "execution_count": 26,
   "id": "d8feb701-6a50-4ba7-9c78-9580d51876b9",
   "metadata": {},
   "outputs": [
    {
     "data": {
      "image/png": "[encoded data removed]",
      "text/plain": [
       "<Figure size 432x288 with 2 Axes>"
      ]
     },
     "metadata": {
      "needs_background": "light"
     },
     "output_type": "display_data"
    }
   ],
   "source": [
    "sns.heatmap(confusion_matrix(y_train, lr.predict(X_train_std)), \n",
    "            annot = True, \n",
    "            fmt = '4d'\n",
    "           )\n",
    "\n",
    "plt.xlabel('Previstos')\n",
    "plt.ylabel('Reais');"
   ]
  },
  {
   "cell_type": "markdown",
   "id": "e318e44f-b724-4d85-8f12-17f419ce7644",
   "metadata": {},
   "source": [
    "Observamos que há uma acurácia de 94%, dos 3750 casos positivos de fraud 3588 foram fraudes verdadeiras. Isso implica que nosso classificador está dizendo 95% das detecções de fraudes são positivas."
   ]
  },
  {
   "cell_type": "markdown",
   "id": "2a1d2ca4-a95c-402f-a82e-680f9caa0498",
   "metadata": {},
   "source": [
    "Previsão da acurácia com o modelo de teste"
   ]
  },
  {
   "cell_type": "code",
   "execution_count": 27,
   "id": "57c1d141-f074-4089-bdd7-be1eaae78aeb",
   "metadata": {},
   "outputs": [],
   "source": [
    "y_test_pred = lr.predict(X_test_std)"
   ]
  },
  {
   "cell_type": "markdown",
   "id": "e0d47df8-5fa9-44dd-8b22-0e9b2345c59a",
   "metadata": {},
   "source": [
    "Acurácia do modelo de teste"
   ]
  },
  {
   "cell_type": "code",
   "execution_count": 28,
   "id": "4334dcbe-cb06-4652-9206-b26961bbb251",
   "metadata": {},
   "outputs": [
    {
     "name": "stdout",
     "output_type": "stream",
     "text": [
      "Score test:  0.9412\n"
     ]
    }
   ],
   "source": [
    "score_test = accuracy_score(y_test, y_test_pred)\n",
    "print('Score test: ', score_test)"
   ]
  },
  {
   "cell_type": "markdown",
   "id": "6d60ae2c-66f9-42a9-b298-55622c08fdf0",
   "metadata": {},
   "source": [
    "Matriz de confusão do modelo de teste"
   ]
  },
  {
   "cell_type": "code",
   "execution_count": 29,
   "id": "0321ca02-e3e1-4112-8e77-f9f80f1808f5",
   "metadata": {
    "tags": []
   },
   "outputs": [
    {
     "data": {
      "image/png": "[encoded data removed]",
      "text/plain": [
       "<Figure size 432x288 with 2 Axes>"
      ]
     },
     "metadata": {
      "needs_background": "light"
     },
     "output_type": "display_data"
    }
   ],
   "source": [
    "sns.heatmap(confusion_matrix(y_test, lr.predict(X_test_std)), \n",
    "            annot = True, \n",
    "            fmt = '4d'\n",
    "           )\n",
    "\n",
    "plt.xlabel('Previstos')\n",
    "plt.ylabel('Reais');"
   ]
  },
  {
   "cell_type": "markdown",
   "id": "2e859d87-ca24-4cb5-9deb-fb1eef3c7aa5",
   "metadata": {},
   "source": [
    "Observamos que há uma acurácia de 94%, dos 1250 casos positivos de fraud 1188 foram fraudes verdadeiras. Isso implica que nosso classificador está dizendo 95% das detecções de fraudes são positivas."
   ]
  },
  {
   "cell_type": "markdown",
   "id": "ed26ad0d-3720-4b70-aef5-09fb9a3946cb",
   "metadata": {},
   "source": [
    "Métricas do modelo de teste"
   ]
  },
  {
   "cell_type": "code",
   "execution_count": 30,
   "id": "6f3bf1e4-4288-4619-b863-3d6d10bd5cfa",
   "metadata": {},
   "outputs": [
    {
     "name": "stdout",
     "output_type": "stream",
     "text": [
      "Classification Report:\n",
      "----------------------\n",
      "               precision    recall  f1-score   support\n",
      "\n",
      "  No Fraud 0       0.94      0.94      0.94      1250\n",
      "     Fraud 1       0.94      0.94      0.94      1250\n",
      "\n",
      "    accuracy                           0.94      2500\n",
      "   macro avg       0.94      0.94      0.94      2500\n",
      "weighted avg       0.94      0.94      0.94      2500\n",
      "\n"
     ]
    }
   ],
   "source": [
    "target_names=['No Fraud 0', 'Fraud 1']\n",
    "report_class = classification_report(y_test, y_test_pred, target_names=target_names)\n",
    "print(\"Classification Report:\\n----------------------\\n\", report_class)"
   ]
  },
  {
   "cell_type": "markdown",
   "id": "399331de-fa55-4b69-bf30-d7febe192f86",
   "metadata": {},
   "source": [
    "Inserindo as métricas na lista para armazenamento"
   ]
  },
  {
   "cell_type": "code",
   "execution_count": 31,
   "id": "abf72c9d-e98d-45fa-8c41-6a556b545caf",
   "metadata": {},
   "outputs": [],
   "source": [
    "m='Logistic Regression'\n",
    "test_recall_lr = recall_score(y_test, y_test_pred, pos_label=1)\n",
    "fpr, tpr, thresholds = roc_curve(y_test, y_test_pred, pos_label=1)\n",
    "test_auc_lr = auc(fpr,tpr)\n",
    "f1_score_lr = f1_score(y_test, y_test_pred)"
   ]
  },
  {
   "cell_type": "code",
   "execution_count": 32,
   "id": "d8289ced-347a-4caf-98d1-bd955e5c3417",
   "metadata": {},
   "outputs": [],
   "source": [
    "data_all.append([m,score_train,score_test,test_recall_lr,test_auc_lr,f1_score_lr])"
   ]
  },
  {
   "cell_type": "code",
   "execution_count": null,
   "id": "b85f7323-b11a-4efe-8540-81c5792e0301",
   "metadata": {},
   "outputs": [],
   "source": []
  },
  {
   "cell_type": "markdown",
   "id": "af0550b0-cf56-4d70-8209-3ec22b02bd68",
   "metadata": {},
   "source": [
    "# Modelo 2: Randon Forest"
   ]
  },
  {
   "cell_type": "code",
   "execution_count": 33,
   "id": "cdd09fa5-232e-4011-af82-f2b71c15152e",
   "metadata": {},
   "outputs": [],
   "source": [
    "rf=RandomForestClassifier()"
   ]
  },
  {
   "cell_type": "markdown",
   "id": "fb91dc72-856b-4eb7-9302-7439a24d30b3",
   "metadata": {},
   "source": [
    "Treino do modelo usando os conjuntos de treinamento y_pred=clf.predict(X_test)"
   ]
  },
  {
   "cell_type": "code",
   "execution_count": 34,
   "id": "c527a47f-77fd-4f23-9c35-bbefac0614ab",
   "metadata": {},
   "outputs": [
    {
     "data": {
      "text/html": [
       "<style>#sk-container-id-2 {color: black;background-color: white;}#sk-container-id-2 pre{padding: 0;}#sk-container-id-2 div.sk-toggleable {background-color: white;}#sk-container-id-2 label.sk-toggleable__label {cursor: pointer;display: block;width: 100%;margin-bottom: 0;padding: 0.3em;box-sizing: border-box;text-align: center;}#sk-container-id-2 label.sk-toggleable__label-arrow:before {content: \"▸\";float: left;margin-right: 0.25em;color: #696969;}#sk-container-id-2 label.sk-toggleable__label-arrow:hover:before {color: black;}#sk-container-id-2 div.sk-estimator:hover label.sk-toggleable__label-arrow:before {color: black;}#sk-container-id-2 div.sk-toggleable__content {max-height: 0;max-width: 0;overflow: hidden;text-align: left;background-color: #f0f8ff;}#sk-container-id-2 div.sk-toggleable__content pre {margin: 0.2em;color: black;border-radius: 0.25em;background-color: #f0f8ff;}#sk-container-id-2 input.sk-toggleable__control:checked~div.sk-toggleable__content {max-height: 200px;max-width: 100%;overflow: auto;}#sk-container-id-2 input.sk-toggleable__control:checked~label.sk-toggleable__label-arrow:before {content: \"▾\";}#sk-container-id-2 div.sk-estimator input.sk-toggleable__control:checked~label.sk-toggleable__label {background-color: #d4ebff;}#sk-container-id-2 div.sk-label input.sk-toggleable__control:checked~label.sk-toggleable__label {background-color: #d4ebff;}#sk-container-id-2 input.sk-hidden--visually {border: 0;clip: rect(1px 1px 1px 1px);clip: rect(1px, 1px, 1px, 1px);height: 1px;margin: -1px;overflow: hidden;padding: 0;position: absolute;width: 1px;}#sk-container-id-2 div.sk-estimator {font-family: monospace;background-color: #f0f8ff;border: 1px dotted black;border-radius: 0.25em;box-sizing: border-box;margin-bottom: 0.5em;}#sk-container-id-2 div.sk-estimator:hover {background-color: #d4ebff;}#sk-container-id-2 div.sk-parallel-item::after {content: \"\";width: 100%;border-bottom: 1px solid gray;flex-grow: 1;}#sk-container-id-2 div.sk-label:hover label.sk-toggleable__label {background-color: #d4ebff;}#sk-container-id-2 div.sk-serial::before {content: \"\";position: absolute;border-left: 1px solid gray;box-sizing: border-box;top: 0;bottom: 0;left: 50%;z-index: 0;}#sk-container-id-2 div.sk-serial {display: flex;flex-direction: column;align-items: center;background-color: white;padding-right: 0.2em;padding-left: 0.2em;position: relative;}#sk-container-id-2 div.sk-item {position: relative;z-index: 1;}#sk-container-id-2 div.sk-parallel {display: flex;align-items: stretch;justify-content: center;background-color: white;position: relative;}#sk-container-id-2 div.sk-item::before, #sk-container-id-2 div.sk-parallel-item::before {content: \"\";position: absolute;border-left: 1px solid gray;box-sizing: border-box;top: 0;bottom: 0;left: 50%;z-index: -1;}#sk-container-id-2 div.sk-parallel-item {display: flex;flex-direction: column;z-index: 1;position: relative;background-color: white;}#sk-container-id-2 div.sk-parallel-item:first-child::after {align-self: flex-end;width: 50%;}#sk-container-id-2 div.sk-parallel-item:last-child::after {align-self: flex-start;width: 50%;}#sk-container-id-2 div.sk-parallel-item:only-child::after {width: 0;}#sk-container-id-2 div.sk-dashed-wrapped {border: 1px dashed gray;margin: 0 0.4em 0.5em 0.4em;box-sizing: border-box;padding-bottom: 0.4em;background-color: white;}#sk-container-id-2 div.sk-label label {font-family: monospace;font-weight: bold;display: inline-block;line-height: 1.2em;}#sk-container-id-2 div.sk-label-container {text-align: center;}#sk-container-id-2 div.sk-container {/* jupyter's `normalize.less` sets `[hidden] { display: none; }` but bootstrap.min.css set `[hidden] { display: none !important; }` so we also need the `!important` here to be able to override the default hidden behavior on the sphinx rendered scikit-learn.org. See: https://github.com/scikit-learn/scikit-learn/issues/21755 */display: inline-block !important;position: relative;}#sk-container-id-2 div.sk-text-repr-fallback {display: none;}</style><div id=\"sk-container-id-2\" class=\"sk-top-container\"><div class=\"sk-text-repr-fallback\"><pre>RandomForestClassifier()</pre><b>In a Jupyter environment, please rerun this cell to show the HTML representation or trust the notebook. <br />On GitHub, the HTML representation is unable to render, please try loading this page with nbviewer.org.</b></div><div class=\"sk-container\" hidden><div class=\"sk-item\"><div class=\"sk-estimator sk-toggleable\"><input class=\"sk-toggleable__control sk-hidden--visually\" id=\"sk-estimator-id-2\" type=\"checkbox\" checked><label for=\"sk-estimator-id-2\" class=\"sk-toggleable__label sk-toggleable__label-arrow\">RandomForestClassifier</label><div class=\"sk-toggleable__content\"><pre>RandomForestClassifier()</pre></div></div></div></div></div>"
      ],
      "text/plain": [
       "RandomForestClassifier()"
      ]
     },
     "execution_count": 34,
     "metadata": {},
     "output_type": "execute_result"
    }
   ],
   "source": [
    "rf.fit(X_train_std, y_train)"
   ]
  },
  {
   "cell_type": "code",
   "execution_count": 35,
   "id": "aa2278a3-b346-4736-ad9e-8dc269f94713",
   "metadata": {},
   "outputs": [
    {
     "name": "stdout",
     "output_type": "stream",
     "text": [
      "Score train:  1.0\n"
     ]
    }
   ],
   "source": [
    "score_train = accuracy_score(y_train, rf.predict(X_train_std))\n",
    "print('Score train: ', score_train)"
   ]
  },
  {
   "cell_type": "code",
   "execution_count": 36,
   "id": "b7cc0e1b-9b31-474f-8031-466a0c857595",
   "metadata": {},
   "outputs": [],
   "source": [
    "y_test_pred = rf.predict(X_test_std)"
   ]
  },
  {
   "cell_type": "code",
   "execution_count": 37,
   "id": "2c73e251-9ad6-4148-9816-04456a6c3561",
   "metadata": {},
   "outputs": [
    {
     "name": "stdout",
     "output_type": "stream",
     "text": [
      "Score test:  0.9988\n"
     ]
    }
   ],
   "source": [
    "score_test = accuracy_score(y_test, y_test_pred)\n",
    "print('Score test: ', score_test)"
   ]
  },
  {
   "cell_type": "code",
   "execution_count": 38,
   "id": "436c74e7-9fdf-4b37-ae25-0b1a59637faf",
   "metadata": {},
   "outputs": [
    {
     "data": {
      "image/png": "[encoded data removed]",
      "text/plain": [
       "<Figure size 432x288 with 2 Axes>"
      ]
     },
     "metadata": {
      "needs_background": "light"
     },
     "output_type": "display_data"
    }
   ],
   "source": [
    "sns.heatmap(confusion_matrix(y_test, lr.predict(X_test_std)), \n",
    "            annot = True, \n",
    "            fmt = '4d'\n",
    "           )\n",
    "\n",
    "plt.xlabel('Previstos')\n",
    "plt.ylabel('Reais');"
   ]
  },
  {
   "cell_type": "code",
   "execution_count": 39,
   "id": "095e0d90-818a-4dd5-b54b-7a2f0b599799",
   "metadata": {},
   "outputs": [
    {
     "name": "stdout",
     "output_type": "stream",
     "text": [
      "Classification Report:\n",
      "----------------------\n",
      "               precision    recall  f1-score   support\n",
      "\n",
      "  No Fraud 0       1.00      1.00      1.00      1250\n",
      "     Fraud 1       1.00      1.00      1.00      1250\n",
      "\n",
      "    accuracy                           1.00      2500\n",
      "   macro avg       1.00      1.00      1.00      2500\n",
      "weighted avg       1.00      1.00      1.00      2500\n",
      "\n"
     ]
    }
   ],
   "source": [
    "target_names=['No Fraud 0', 'Fraud 1']\n",
    "report_class = classification_report(y_test, y_test_pred, target_names=target_names)\n",
    "print(\"Classification Report:\\n----------------------\\n\", report_class)"
   ]
  },
  {
   "cell_type": "code",
   "execution_count": 40,
   "id": "1a0f9891-49b7-473b-85ed-643f450404fa",
   "metadata": {},
   "outputs": [],
   "source": [
    "m='Randon Forest'\n",
    "test_recall = recall_score(y_test, y_test_pred, pos_label=1)\n",
    "fpr, tpr, thresholds = roc_curve(y_test, y_test_pred, pos_label=1)\n",
    "test_auc = auc(fpr,tpr)\n",
    "f1_score = f1_score(y_test, y_test_pred)"
   ]
  },
  {
   "cell_type": "code",
   "execution_count": 41,
   "id": "216e4440-a005-44db-836f-b47ca058de81",
   "metadata": {},
   "outputs": [],
   "source": [
    "data_all.append([m,score_train,score_test,test_recall,test_auc,f1_score])"
   ]
  },
  {
   "cell_type": "markdown",
   "id": "ec34f1c2",
   "metadata": {},
   "source": [
    "# Classificação KNN"
   ]
  },
  {
   "cell_type": "markdown",
   "id": "f484d622",
   "metadata": {},
   "source": [
    "# Primeiramente vamos escolher qual metrica vai me dar uma accuracy melhor (Euclidean,  Manhattan ou Chebyshev), também vamos escolher com quantos vizinhos a quantidade de vizinhos próximos pelo modelo de validação cruzada."
   ]
  },
  {
   "cell_type": "code",
   "execution_count": 42,
   "id": "efe9a388-653c-4c79-8e24-ee1b0f33e348",
   "metadata": {},
   "outputs": [],
   "source": [
    "# Usamos cross validation co, 5 folds\n",
    "kf = KFold(n_splits = 5, shuffle = True, random_state = 12)\n",
    "scores_para_df = []\n",
    "for i in range(1, 26):\n",
    "# Em cada iteração, instanciamos o modelo com um hiperparâmetro diferente\n",
    "    model_euclidean = KNeighborsClassifier(metric = 'euclidean', n_neighbors = i)\n",
    "    model_manhattan = KNeighborsClassifier(metric = 'manhattan', n_neighbors = i)\n",
    "    model_chebyshev = KNeighborsClassifier(metric = 'chebyshev', n_neighbors = i)\n",
    "# cross_val_scores retorna uma matriz de 5 resultados,\n",
    "# um para cada partição que automaticamente criou CV\n",
    "    cv_scores = cross_val_score(model_euclidean, X_train_std, y_train, cv = kf)\n",
    "    cv_scores2 = cross_val_score(model_manhattan, X_train_std, y_train, cv = kf)\n",
    "    cv_scores3 = cross_val_score(model_chebyshev, X_train_std, y_train, cv = kf)\n",
    "# Para cada valor de n_neighbours, criamos um dicionário com o valor\n",
    "# de n_neighbours e a média das pontuações\n",
    "    dict_row_score = { 'n_neighbors': i, 'euclidean': np.mean(cv_scores),'manhattan': np.mean(cv_scores2),'chebyshev': np.mean(cv_scores3)}\n",
    "# Salvamos cada um na lista definida fora do loop\n",
    "    scores_para_df.append(dict_row_score)"
   ]
  },
  {
   "cell_type": "markdown",
   "id": "810527b1",
   "metadata": {},
   "source": [
    "# De acordo com os vizinhos próximos as 3 melhores accuracy das metricas estão grifadas em amarelo, a melhor metrica foi a manhattan"
   ]
  },
  {
   "cell_type": "code",
   "execution_count": 43,
   "id": "dd05a37f",
   "metadata": {},
   "outputs": [
    {
     "data": {
      "text/html": [
       "<style type=\"text/css\">\n",
       "#T_0f365_row0_col1, #T_0f365_row3_col2, #T_0f365_row3_col3 {\n",
       "  background-color: yellow;\n",
       "}\n",
       "</style>\n",
       "<table id=\"T_0f365\">\n",
       "  <thead>\n",
       "    <tr>\n",
       "      <th class=\"blank level0\" >&nbsp;</th>\n",
       "      <th id=\"T_0f365_level0_col0\" class=\"col_heading level0 col0\" >n_neighbors</th>\n",
       "      <th id=\"T_0f365_level0_col1\" class=\"col_heading level0 col1\" >euclidean</th>\n",
       "      <th id=\"T_0f365_level0_col2\" class=\"col_heading level0 col2\" >manhattan</th>\n",
       "      <th id=\"T_0f365_level0_col3\" class=\"col_heading level0 col3\" >chebyshev</th>\n",
       "    </tr>\n",
       "  </thead>\n",
       "  <tbody>\n",
       "    <tr>\n",
       "      <th id=\"T_0f365_level0_row0\" class=\"row_heading level0 row0\" >0</th>\n",
       "      <td id=\"T_0f365_row0_col0\" class=\"data row0 col0\" >1</td>\n",
       "      <td id=\"T_0f365_row0_col1\" class=\"data row0 col1\" >0.990000</td>\n",
       "      <td id=\"T_0f365_row0_col2\" class=\"data row0 col2\" >0.990400</td>\n",
       "      <td id=\"T_0f365_row0_col3\" class=\"data row0 col3\" >0.989067</td>\n",
       "    </tr>\n",
       "    <tr>\n",
       "      <th id=\"T_0f365_level0_row1\" class=\"row_heading level0 row1\" >1</th>\n",
       "      <td id=\"T_0f365_row1_col0\" class=\"data row1 col0\" >2</td>\n",
       "      <td id=\"T_0f365_row1_col1\" class=\"data row1 col1\" >0.989867</td>\n",
       "      <td id=\"T_0f365_row1_col2\" class=\"data row1 col2\" >0.990533</td>\n",
       "      <td id=\"T_0f365_row1_col3\" class=\"data row1 col3\" >0.987733</td>\n",
       "    </tr>\n",
       "    <tr>\n",
       "      <th id=\"T_0f365_level0_row2\" class=\"row_heading level0 row2\" >2</th>\n",
       "      <td id=\"T_0f365_row2_col0\" class=\"data row2 col0\" >3</td>\n",
       "      <td id=\"T_0f365_row2_col1\" class=\"data row2 col1\" >0.989467</td>\n",
       "      <td id=\"T_0f365_row2_col2\" class=\"data row2 col2\" >0.990000</td>\n",
       "      <td id=\"T_0f365_row2_col3\" class=\"data row2 col3\" >0.989200</td>\n",
       "    </tr>\n",
       "    <tr>\n",
       "      <th id=\"T_0f365_level0_row3\" class=\"row_heading level0 row3\" >3</th>\n",
       "      <td id=\"T_0f365_row3_col0\" class=\"data row3 col0\" >4</td>\n",
       "      <td id=\"T_0f365_row3_col1\" class=\"data row3 col1\" >0.989733</td>\n",
       "      <td id=\"T_0f365_row3_col2\" class=\"data row3 col2\" >0.990533</td>\n",
       "      <td id=\"T_0f365_row3_col3\" class=\"data row3 col3\" >0.989333</td>\n",
       "    </tr>\n",
       "    <tr>\n",
       "      <th id=\"T_0f365_level0_row4\" class=\"row_heading level0 row4\" >4</th>\n",
       "      <td id=\"T_0f365_row4_col0\" class=\"data row4 col0\" >5</td>\n",
       "      <td id=\"T_0f365_row4_col1\" class=\"data row4 col1\" >0.987733</td>\n",
       "      <td id=\"T_0f365_row4_col2\" class=\"data row4 col2\" >0.989467</td>\n",
       "      <td id=\"T_0f365_row4_col3\" class=\"data row4 col3\" >0.988133</td>\n",
       "    </tr>\n",
       "    <tr>\n",
       "      <th id=\"T_0f365_level0_row5\" class=\"row_heading level0 row5\" >5</th>\n",
       "      <td id=\"T_0f365_row5_col0\" class=\"data row5 col0\" >6</td>\n",
       "      <td id=\"T_0f365_row5_col1\" class=\"data row5 col1\" >0.987867</td>\n",
       "      <td id=\"T_0f365_row5_col2\" class=\"data row5 col2\" >0.989467</td>\n",
       "      <td id=\"T_0f365_row5_col3\" class=\"data row5 col3\" >0.987067</td>\n",
       "    </tr>\n",
       "    <tr>\n",
       "      <th id=\"T_0f365_level0_row6\" class=\"row_heading level0 row6\" >6</th>\n",
       "      <td id=\"T_0f365_row6_col0\" class=\"data row6 col0\" >7</td>\n",
       "      <td id=\"T_0f365_row6_col1\" class=\"data row6 col1\" >0.987600</td>\n",
       "      <td id=\"T_0f365_row6_col2\" class=\"data row6 col2\" >0.988800</td>\n",
       "      <td id=\"T_0f365_row6_col3\" class=\"data row6 col3\" >0.986000</td>\n",
       "    </tr>\n",
       "    <tr>\n",
       "      <th id=\"T_0f365_level0_row7\" class=\"row_heading level0 row7\" >7</th>\n",
       "      <td id=\"T_0f365_row7_col0\" class=\"data row7 col0\" >8</td>\n",
       "      <td id=\"T_0f365_row7_col1\" class=\"data row7 col1\" >0.986267</td>\n",
       "      <td id=\"T_0f365_row7_col2\" class=\"data row7 col2\" >0.988533</td>\n",
       "      <td id=\"T_0f365_row7_col3\" class=\"data row7 col3\" >0.985333</td>\n",
       "    </tr>\n",
       "    <tr>\n",
       "      <th id=\"T_0f365_level0_row8\" class=\"row_heading level0 row8\" >8</th>\n",
       "      <td id=\"T_0f365_row8_col0\" class=\"data row8 col0\" >9</td>\n",
       "      <td id=\"T_0f365_row8_col1\" class=\"data row8 col1\" >0.986267</td>\n",
       "      <td id=\"T_0f365_row8_col2\" class=\"data row8 col2\" >0.987733</td>\n",
       "      <td id=\"T_0f365_row8_col3\" class=\"data row8 col3\" >0.984800</td>\n",
       "    </tr>\n",
       "    <tr>\n",
       "      <th id=\"T_0f365_level0_row9\" class=\"row_heading level0 row9\" >9</th>\n",
       "      <td id=\"T_0f365_row9_col0\" class=\"data row9 col0\" >10</td>\n",
       "      <td id=\"T_0f365_row9_col1\" class=\"data row9 col1\" >0.986000</td>\n",
       "      <td id=\"T_0f365_row9_col2\" class=\"data row9 col2\" >0.987200</td>\n",
       "      <td id=\"T_0f365_row9_col3\" class=\"data row9 col3\" >0.984400</td>\n",
       "    </tr>\n",
       "    <tr>\n",
       "      <th id=\"T_0f365_level0_row10\" class=\"row_heading level0 row10\" >10</th>\n",
       "      <td id=\"T_0f365_row10_col0\" class=\"data row10 col0\" >11</td>\n",
       "      <td id=\"T_0f365_row10_col1\" class=\"data row10 col1\" >0.985333</td>\n",
       "      <td id=\"T_0f365_row10_col2\" class=\"data row10 col2\" >0.986800</td>\n",
       "      <td id=\"T_0f365_row10_col3\" class=\"data row10 col3\" >0.983333</td>\n",
       "    </tr>\n",
       "    <tr>\n",
       "      <th id=\"T_0f365_level0_row11\" class=\"row_heading level0 row11\" >11</th>\n",
       "      <td id=\"T_0f365_row11_col0\" class=\"data row11 col0\" >12</td>\n",
       "      <td id=\"T_0f365_row11_col1\" class=\"data row11 col1\" >0.985200</td>\n",
       "      <td id=\"T_0f365_row11_col2\" class=\"data row11 col2\" >0.987200</td>\n",
       "      <td id=\"T_0f365_row11_col3\" class=\"data row11 col3\" >0.982800</td>\n",
       "    </tr>\n",
       "    <tr>\n",
       "      <th id=\"T_0f365_level0_row12\" class=\"row_heading level0 row12\" >12</th>\n",
       "      <td id=\"T_0f365_row12_col0\" class=\"data row12 col0\" >13</td>\n",
       "      <td id=\"T_0f365_row12_col1\" class=\"data row12 col1\" >0.984933</td>\n",
       "      <td id=\"T_0f365_row12_col2\" class=\"data row12 col2\" >0.986800</td>\n",
       "      <td id=\"T_0f365_row12_col3\" class=\"data row12 col3\" >0.983200</td>\n",
       "    </tr>\n",
       "    <tr>\n",
       "      <th id=\"T_0f365_level0_row13\" class=\"row_heading level0 row13\" >13</th>\n",
       "      <td id=\"T_0f365_row13_col0\" class=\"data row13 col0\" >14</td>\n",
       "      <td id=\"T_0f365_row13_col1\" class=\"data row13 col1\" >0.984667</td>\n",
       "      <td id=\"T_0f365_row13_col2\" class=\"data row13 col2\" >0.987067</td>\n",
       "      <td id=\"T_0f365_row13_col3\" class=\"data row13 col3\" >0.982933</td>\n",
       "    </tr>\n",
       "    <tr>\n",
       "      <th id=\"T_0f365_level0_row14\" class=\"row_heading level0 row14\" >14</th>\n",
       "      <td id=\"T_0f365_row14_col0\" class=\"data row14 col0\" >15</td>\n",
       "      <td id=\"T_0f365_row14_col1\" class=\"data row14 col1\" >0.984533</td>\n",
       "      <td id=\"T_0f365_row14_col2\" class=\"data row14 col2\" >0.986133</td>\n",
       "      <td id=\"T_0f365_row14_col3\" class=\"data row14 col3\" >0.983067</td>\n",
       "    </tr>\n",
       "    <tr>\n",
       "      <th id=\"T_0f365_level0_row15\" class=\"row_heading level0 row15\" >15</th>\n",
       "      <td id=\"T_0f365_row15_col0\" class=\"data row15 col0\" >16</td>\n",
       "      <td id=\"T_0f365_row15_col1\" class=\"data row15 col1\" >0.984933</td>\n",
       "      <td id=\"T_0f365_row15_col2\" class=\"data row15 col2\" >0.986267</td>\n",
       "      <td id=\"T_0f365_row15_col3\" class=\"data row15 col3\" >0.982400</td>\n",
       "    </tr>\n",
       "    <tr>\n",
       "      <th id=\"T_0f365_level0_row16\" class=\"row_heading level0 row16\" >16</th>\n",
       "      <td id=\"T_0f365_row16_col0\" class=\"data row16 col0\" >17</td>\n",
       "      <td id=\"T_0f365_row16_col1\" class=\"data row16 col1\" >0.983333</td>\n",
       "      <td id=\"T_0f365_row16_col2\" class=\"data row16 col2\" >0.985600</td>\n",
       "      <td id=\"T_0f365_row16_col3\" class=\"data row16 col3\" >0.982400</td>\n",
       "    </tr>\n",
       "    <tr>\n",
       "      <th id=\"T_0f365_level0_row17\" class=\"row_heading level0 row17\" >17</th>\n",
       "      <td id=\"T_0f365_row17_col0\" class=\"data row17 col0\" >18</td>\n",
       "      <td id=\"T_0f365_row17_col1\" class=\"data row17 col1\" >0.983467</td>\n",
       "      <td id=\"T_0f365_row17_col2\" class=\"data row17 col2\" >0.985600</td>\n",
       "      <td id=\"T_0f365_row17_col3\" class=\"data row17 col3\" >0.982000</td>\n",
       "    </tr>\n",
       "    <tr>\n",
       "      <th id=\"T_0f365_level0_row18\" class=\"row_heading level0 row18\" >18</th>\n",
       "      <td id=\"T_0f365_row18_col0\" class=\"data row18 col0\" >19</td>\n",
       "      <td id=\"T_0f365_row18_col1\" class=\"data row18 col1\" >0.982533</td>\n",
       "      <td id=\"T_0f365_row18_col2\" class=\"data row18 col2\" >0.984933</td>\n",
       "      <td id=\"T_0f365_row18_col3\" class=\"data row18 col3\" >0.980933</td>\n",
       "    </tr>\n",
       "    <tr>\n",
       "      <th id=\"T_0f365_level0_row19\" class=\"row_heading level0 row19\" >19</th>\n",
       "      <td id=\"T_0f365_row19_col0\" class=\"data row19 col0\" >20</td>\n",
       "      <td id=\"T_0f365_row19_col1\" class=\"data row19 col1\" >0.982133</td>\n",
       "      <td id=\"T_0f365_row19_col2\" class=\"data row19 col2\" >0.984400</td>\n",
       "      <td id=\"T_0f365_row19_col3\" class=\"data row19 col3\" >0.980533</td>\n",
       "    </tr>\n",
       "    <tr>\n",
       "      <th id=\"T_0f365_level0_row20\" class=\"row_heading level0 row20\" >20</th>\n",
       "      <td id=\"T_0f365_row20_col0\" class=\"data row20 col0\" >21</td>\n",
       "      <td id=\"T_0f365_row20_col1\" class=\"data row20 col1\" >0.982000</td>\n",
       "      <td id=\"T_0f365_row20_col2\" class=\"data row20 col2\" >0.983333</td>\n",
       "      <td id=\"T_0f365_row20_col3\" class=\"data row20 col3\" >0.980000</td>\n",
       "    </tr>\n",
       "    <tr>\n",
       "      <th id=\"T_0f365_level0_row21\" class=\"row_heading level0 row21\" >21</th>\n",
       "      <td id=\"T_0f365_row21_col0\" class=\"data row21 col0\" >22</td>\n",
       "      <td id=\"T_0f365_row21_col1\" class=\"data row21 col1\" >0.981200</td>\n",
       "      <td id=\"T_0f365_row21_col2\" class=\"data row21 col2\" >0.983067</td>\n",
       "      <td id=\"T_0f365_row21_col3\" class=\"data row21 col3\" >0.979200</td>\n",
       "    </tr>\n",
       "    <tr>\n",
       "      <th id=\"T_0f365_level0_row22\" class=\"row_heading level0 row22\" >22</th>\n",
       "      <td id=\"T_0f365_row22_col0\" class=\"data row22 col0\" >23</td>\n",
       "      <td id=\"T_0f365_row22_col1\" class=\"data row22 col1\" >0.980800</td>\n",
       "      <td id=\"T_0f365_row22_col2\" class=\"data row22 col2\" >0.983067</td>\n",
       "      <td id=\"T_0f365_row22_col3\" class=\"data row22 col3\" >0.978667</td>\n",
       "    </tr>\n",
       "    <tr>\n",
       "      <th id=\"T_0f365_level0_row23\" class=\"row_heading level0 row23\" >23</th>\n",
       "      <td id=\"T_0f365_row23_col0\" class=\"data row23 col0\" >24</td>\n",
       "      <td id=\"T_0f365_row23_col1\" class=\"data row23 col1\" >0.980667</td>\n",
       "      <td id=\"T_0f365_row23_col2\" class=\"data row23 col2\" >0.982667</td>\n",
       "      <td id=\"T_0f365_row23_col3\" class=\"data row23 col3\" >0.979067</td>\n",
       "    </tr>\n",
       "    <tr>\n",
       "      <th id=\"T_0f365_level0_row24\" class=\"row_heading level0 row24\" >24</th>\n",
       "      <td id=\"T_0f365_row24_col0\" class=\"data row24 col0\" >25</td>\n",
       "      <td id=\"T_0f365_row24_col1\" class=\"data row24 col1\" >0.980000</td>\n",
       "      <td id=\"T_0f365_row24_col2\" class=\"data row24 col2\" >0.983333</td>\n",
       "      <td id=\"T_0f365_row24_col3\" class=\"data row24 col3\" >0.978267</td>\n",
       "    </tr>\n",
       "  </tbody>\n",
       "</table>\n"
      ],
      "text/plain": [
       "<pandas.io.formats.style.Styler at 0x2143ac0b970>"
      ]
     },
     "execution_count": 43,
     "metadata": {},
     "output_type": "execute_result"
    }
   ],
   "source": [
    "df_scores = pd.DataFrame(scores_para_df)\n",
    "df_scores.style.highlight_max(subset=['euclidean','manhattan','chebyshev'])"
   ]
  },
  {
   "cell_type": "markdown",
   "id": "39fa2b7d",
   "metadata": {},
   "source": [
    "# Vamos utilizar a metrica distância de Euclidean com 3 vizinhos"
   ]
  },
  {
   "cell_type": "code",
   "execution_count": 44,
   "id": "936599d2",
   "metadata": {},
   "outputs": [],
   "source": [
    "knn = KNeighborsClassifier(metric = 'manhattan', n_neighbors = 4)"
   ]
  },
  {
   "cell_type": "code",
   "execution_count": 52,
   "id": "6c4e0c5c",
   "metadata": {},
   "outputs": [],
   "source": [
    "X_train_std, X_test_std, y_train, y_test = train_test_split(X, y, test_size = 0.2, random_state = 12)"
   ]
  },
  {
   "cell_type": "code",
   "execution_count": 67,
   "id": "69720f2c",
   "metadata": {},
   "outputs": [],
   "source": [
    "knn.fit(X_train_std, y_train);"
   ]
  },
  {
   "cell_type": "code",
   "execution_count": 68,
   "id": "c1eff078",
   "metadata": {},
   "outputs": [],
   "source": [
    "y_pred = knn.predict(X_test_std)"
   ]
  },
  {
   "cell_type": "code",
   "execution_count": 69,
   "id": "729775b8",
   "metadata": {},
   "outputs": [
    {
     "data": {
      "text/plain": [
       "0.9565"
      ]
     },
     "execution_count": 69,
     "metadata": {},
     "output_type": "execute_result"
    }
   ],
   "source": [
    "accuracy_score(y_test, y_pred).round(4)"
   ]
  },
  {
   "cell_type": "code",
   "execution_count": 70,
   "id": "e1df5d44",
   "metadata": {},
   "outputs": [
    {
     "data": {
      "text/plain": [
       "array([[ 908,   71],\n",
       "       [  16, 1005]], dtype=int64)"
      ]
     },
     "execution_count": 70,
     "metadata": {},
     "output_type": "execute_result"
    }
   ],
   "source": [
    "confusion_matrix(y_test,y_pred)"
   ]
  },
  {
   "cell_type": "code",
   "execution_count": 71,
   "id": "5e4a2674",
   "metadata": {},
   "outputs": [
    {
     "data": {
      "image/png": "[encoded data removed]",
      "text/plain": [
       "<Figure size 432x288 with 2 Axes>"
      ]
     },
     "metadata": {
      "needs_background": "light"
     },
     "output_type": "display_data"
    }
   ],
   "source": [
    "sns.heatmap(confusion_matrix(y_test, knn.predict(X_test_std)), \n",
    "            annot = True, \n",
    "            fmt = '4d'\n",
    "           )\n",
    "\n",
    "plt.xlabel('Previstos')\n",
    "plt.ylabel('Reais');"
   ]
  },
  {
   "cell_type": "code",
   "execution_count": 73,
   "id": "56569772",
   "metadata": {},
   "outputs": [
    {
     "name": "stdout",
     "output_type": "stream",
     "text": [
      "Classification Report:\n",
      "----------------------\n",
      "               precision    recall  f1-score   support\n",
      "\n",
      "  No Fraud 0       0.98      0.93      0.95       979\n",
      "     Fraud 1       0.93      0.98      0.96      1021\n",
      "\n",
      "    accuracy                           0.96      2000\n",
      "   macro avg       0.96      0.96      0.96      2000\n",
      "weighted avg       0.96      0.96      0.96      2000\n",
      "\n"
     ]
    }
   ],
   "source": [
    "target_names=['No Fraud 0', 'Fraud 1']\n",
    "report_class = classification_report(y_test, y_pred, target_names=target_names)\n",
    "print(\"Classification Report:\\n----------------------\\n\", report_class)"
   ]
  },
  {
   "cell_type": "markdown",
   "id": "c875795b-23b2-470a-91ac-8aaae15eb8a0",
   "metadata": {},
   "source": [
    "#  DEIXAR ESSE PARA FINAL, OS MODELOS DEVEM SER INSERIDOS ANTES DAQUI\n",
    "Transformando a lista de métricas num dataframe e imprimindo as informações de todos modelos"
   ]
  },
  {
   "cell_type": "code",
   "execution_count": 43,
   "id": "ed698501-37ba-41f2-9148-1a9e4b2873cd",
   "metadata": {},
   "outputs": [
    {
     "name": "stdout",
     "output_type": "stream",
     "text": [
      "                 model  train score  test score  test recall  test_auc  \\\n",
      "0  Logistic Regression     0.940133      0.9432       0.9544    0.9432   \n",
      "1        Randon Forest     1.000000      0.9992       1.0000    0.9992   \n",
      "\n",
      "   F1 Score  \n",
      "0  0.943829  \n",
      "1  0.999201  \n"
     ]
    }
   ],
   "source": [
    "models=['LogReg','RanFor']\n",
    "pd_scores=pd.DataFrame(data_all,columns=['model','train score','test score','test recall','test_auc','F1 Score'])\n",
    "print(pd_scores)"
   ]
  },
  {
   "cell_type": "markdown",
   "id": "89a812aa-9874-4956-b883-06bac6e8e375",
   "metadata": {},
   "source": [
    "Modelo 3: MOdelo Gaussian Naive Bayes"
   ]
  },
  {
   "cell_type": "code",
   "execution_count": null,
   "id": "4a713e87",
   "metadata": {},
   "outputs": [],
   "source": []
  }
 ],
 "metadata": {
  "kernelspec": {
   "display_name": "Python 3 (ipykernel)",
   "language": "python",
   "name": "python3"
  },
  "language_info": {
   "codemirror_mode": {
    "name": "ipython",
    "version": 3
   },
   "file_extension": ".py",
   "mimetype": "text/x-python",
   "name": "python",
   "nbconvert_exporter": "python",
   "pygments_lexer": "ipython3",
   "version": "3.9.12"
  }
 },
 "nbformat": 4,
 "nbformat_minor": 5
}
